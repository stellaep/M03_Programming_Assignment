{
 "cells": [
  {
   "cell_type": "markdown",
   "id": "037a9cb2-763f-4ff0-83ba-6e6c05a9da8c",
   "metadata": {},
   "source": [
    "7.4"
   ]
  },
  {
   "cell_type": "code",
   "execution_count": 7,
   "id": "28605334-c673-4e2d-b6b1-4d596ac8bbf0",
   "metadata": {},
   "outputs": [],
   "source": [
    "things = [\"mozarella\", \"cinderella\", \"salmonella\"]"
   ]
  },
  {
   "cell_type": "markdown",
   "id": "31f397b4-a639-437b-a832-ba4712c8510e",
   "metadata": {},
   "source": [
    "7.5"
   ]
  },
  {
   "cell_type": "code",
   "execution_count": 8,
   "id": "94572f76-fbf2-4300-b519-b37679e244a5",
   "metadata": {},
   "outputs": [
    {
     "name": "stdout",
     "output_type": "stream",
     "text": [
      "['mozarella', 'Cinderella', 'salmonella']\n"
     ]
    }
   ],
   "source": [
    "things[1] = \"Cinderella\"\n",
    "print(things)"
   ]
  },
  {
   "cell_type": "markdown",
   "id": "940cf203-700e-434f-9647-23498ead722a",
   "metadata": {},
   "source": [
    "Yes"
   ]
  },
  {
   "cell_type": "markdown",
   "id": "6eb89729-effa-4192-b7c5-2ea5104635f9",
   "metadata": {},
   "source": [
    "7.6"
   ]
  },
  {
   "cell_type": "code",
   "execution_count": 12,
   "id": "430c755d-b536-4676-90bb-7bb79455605c",
   "metadata": {},
   "outputs": [
    {
     "name": "stdout",
     "output_type": "stream",
     "text": [
      "['MOZARELLA', 'Cinderella', 'salmonella']\n"
     ]
    }
   ],
   "source": [
    "things[0] = \"MOZARELLA\"\n",
    "print(things)"
   ]
  },
  {
   "cell_type": "markdown",
   "id": "af610344-f828-430d-b47c-914694c875bc",
   "metadata": {},
   "source": [
    "7.7"
   ]
  },
  {
   "cell_type": "code",
   "execution_count": 16,
   "id": "81068d46-7b41-497c-9d8e-7a45b524711c",
   "metadata": {},
   "outputs": [
    {
     "name": "stdout",
     "output_type": "stream",
     "text": [
      "['MOZARELLA', 'Cinderella']\n"
     ]
    }
   ],
   "source": [
    "del(things[2])\n",
    "print(things)"
   ]
  },
  {
   "cell_type": "markdown",
   "id": "52359341-4811-4b4a-a125-d6a8b487348e",
   "metadata": {},
   "source": [
    "9.1"
   ]
  },
  {
   "cell_type": "code",
   "execution_count": 17,
   "id": "a0bfc493-fea3-4381-9980-63b272cc9965",
   "metadata": {},
   "outputs": [
    {
     "data": {
      "text/plain": [
       "['Harry', 'Ron', 'Hermione']"
      ]
     },
     "execution_count": 17,
     "metadata": {},
     "output_type": "execute_result"
    }
   ],
   "source": [
    "def good():\n",
    "    list = [\"Harry\", \"Ron\", \"Hermione\"]\n",
    "    return list\n",
    "good()"
   ]
  },
  {
   "cell_type": "markdown",
   "id": "7a22b21b-b307-4141-9b29-9893559d62d4",
   "metadata": {},
   "source": [
    "9.2"
   ]
  },
  {
   "cell_type": "code",
   "execution_count": 33,
   "id": "75f3cf6d-9c73-4029-a9ff-e98aa7104bbe",
   "metadata": {},
   "outputs": [
    {
     "name": "stdout",
     "output_type": "stream",
     "text": [
      "5\n"
     ]
    }
   ],
   "source": [
    "def get_odds():\n",
    "    odds = []\n",
    "    for i in range(1,10,2):\n",
    "        odds.append(i)\n",
    "    return odds\n",
    "odds = get_odds()\n",
    "for i in odds:\n",
    "    if i == 3:\n",
    "        print(odds[2])\n",
    "        break\n"
   ]
  },
  {
   "cell_type": "code",
   "execution_count": null,
   "id": "d26ab6b3-7411-4beb-ab68-f03e4996e32b",
   "metadata": {},
   "outputs": [],
   "source": []
  }
 ],
 "metadata": {
  "kernelspec": {
   "display_name": "Python 3 (ipykernel)",
   "language": "python",
   "name": "python3"
  },
  "language_info": {
   "codemirror_mode": {
    "name": "ipython",
    "version": 3
   },
   "file_extension": ".py",
   "mimetype": "text/x-python",
   "name": "python",
   "nbconvert_exporter": "python",
   "pygments_lexer": "ipython3",
   "version": "3.11.7"
  }
 },
 "nbformat": 4,
 "nbformat_minor": 5
}
